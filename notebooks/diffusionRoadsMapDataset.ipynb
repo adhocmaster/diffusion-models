{
 "cells": [
  {
   "cell_type": "code",
   "execution_count": 1,
   "id": "aad5ffd7-49ca-4f6e-8b9c-77632129bdd3",
   "metadata": {},
   "outputs": [
    {
     "name": "stderr",
     "output_type": "stream",
     "text": [
      "C:\\Users\\adhocmaster\\anaconda3\\envs\\map2\\lib\\site-packages\\tqdm\\auto.py:22: TqdmWarning: IProgress not found. Please update jupyter and ipywidgets. See https://ipywidgets.readthedocs.io/en/stable/user_install.html\n",
      "  from .autonotebook import tqdm as notebook_tqdm\n"
     ]
    }
   ],
   "source": [
    "from PIL import Image\n",
    "import torch.nn.functional as F\n",
    "import os\n",
    "from tqdm import tqdm\n",
    "import torch\n",
    "import numpy as np\n"
   ]
  },
  {
   "cell_type": "code",
   "execution_count": 2,
   "id": "b1d49377-d023-4086-8d97-5d7618fc5f87",
   "metadata": {},
   "outputs": [],
   "source": [
    "randImg = (np.random.sample((64, 64)) * 255).astype(np.uint8)"
   ]
  },
  {
   "cell_type": "code",
   "execution_count": 3,
   "id": "b6a6a8f7-7e59-4116-bdfe-f1b86430d87a",
   "metadata": {},
   "outputs": [
    {
     "data": {
      "text/plain": [
       "(64, 64)"
      ]
     },
     "execution_count": 3,
     "metadata": {},
     "output_type": "execute_result"
    }
   ],
   "source": [
    "randImg.shape"
   ]
  },
  {
   "cell_type": "code",
   "execution_count": 4,
   "id": "3fc0eba9-a96c-4388-aff4-6969ba52f53b",
   "metadata": {},
   "outputs": [
    {
     "data": {
      "text/plain": [
       "array([[109,  50,  82, ..., 224, 174, 241],\n",
       "       [ 62, 185, 182, ..., 248,  60, 207],\n",
       "       [ 24,  96,  16, ..., 215,  93,  53],\n",
       "       ...,\n",
       "       [ 91, 141,  72, ..., 121, 119,  12],\n",
       "       [ 52,  43, 200, ..., 116, 225, 254],\n",
       "       [ 60, 225, 128, ..., 176,  97, 224]], dtype=uint8)"
      ]
     },
     "execution_count": 4,
     "metadata": {},
     "output_type": "execute_result"
    }
   ],
   "source": [
    "randImg"
   ]
  },
  {
   "cell_type": "code",
   "execution_count": 5,
   "id": "dc7c91ee-86e7-4af0-aa37-26a31e197a34",
   "metadata": {},
   "outputs": [
    {
     "data": {
      "image/png": "[encoded data removed]",
      "text/plain": [
       "<PIL.Image.Image image mode=L size=64x64>"
      ]
     },
     "execution_count": 5,
     "metadata": {},
     "output_type": "execute_result"
    }
   ],
   "source": [
    "img = Image.fromarray(randImg)\n",
    "img"
   ]
  },
  {
   "cell_type": "code",
   "execution_count": 6,
   "id": "9321787b-b753-48c5-b578-45cf4fff950d",
   "metadata": {},
   "outputs": [],
   "source": [
    "imT = torch.from_numpy(np.array(randImg)).unsqueeze(0).unsqueeze(0)"
   ]
  },
  {
   "cell_type": "code",
   "execution_count": 7,
   "id": "6763fdff-669d-4da1-bf01-164301a09e01",
   "metadata": {},
   "outputs": [
    {
     "data": {
      "text/plain": [
       "torch.Size([1, 1, 64, 64])"
      ]
     },
     "execution_count": 7,
     "metadata": {},
     "output_type": "execute_result"
    }
   ],
   "source": [
    "imT.shape"
   ]
  },
  {
   "cell_type": "code",
   "execution_count": 8,
   "id": "c08f0017-f1fe-42c3-b4a0-c1413ce6cfd5",
   "metadata": {},
   "outputs": [
    {
     "data": {
      "text/plain": [
       "tensor([[[[109,  50,  82,  ..., 224, 174, 241],\n",
       "          [ 62, 185, 182,  ..., 248,  60, 207],\n",
       "          [ 24,  96,  16,  ..., 215,  93,  53],\n",
       "          ...,\n",
       "          [ 91, 141,  72,  ..., 121, 119,  12],\n",
       "          [ 52,  43, 200,  ..., 116, 225, 254],\n",
       "          [ 60, 225, 128,  ..., 176,  97, 224]]]], dtype=torch.uint8)"
      ]
     },
     "execution_count": 8,
     "metadata": {},
     "output_type": "execute_result"
    }
   ],
   "source": [
    "imT"
   ]
  },
  {
   "cell_type": "code",
   "execution_count": 9,
   "id": "0dee3d03-a51a-4d3e-8ba7-7ba364711098",
   "metadata": {},
   "outputs": [],
   "source": [
    "toNp = np.array(imT)"
   ]
  },
  {
   "cell_type": "code",
   "execution_count": 10,
   "id": "acf17064-1e57-497b-b25e-6d515be54435",
   "metadata": {},
   "outputs": [
    {
     "data": {
      "text/plain": [
       "array([[[[109,  50,  82, ..., 224, 174, 241],\n",
       "         [ 62, 185, 182, ..., 248,  60, 207],\n",
       "         [ 24,  96,  16, ..., 215,  93,  53],\n",
       "         ...,\n",
       "         [ 91, 141,  72, ..., 121, 119,  12],\n",
       "         [ 52,  43, 200, ..., 116, 225, 254],\n",
       "         [ 60, 225, 128, ..., 176,  97, 224]]]], dtype=uint8)"
      ]
     },
     "execution_count": 10,
     "metadata": {},
     "output_type": "execute_result"
    }
   ],
   "source": [
    "toNp"
   ]
  },
  {
   "cell_type": "code",
   "execution_count": 11,
   "id": "34ad3ab3-c817-420c-b74e-7b01633b6d10",
   "metadata": {},
   "outputs": [
    {
     "data": {
      "image/png": "[encoded data removed]",
      "text/plain": [
       "<PIL.Image.Image image mode=L size=64x64>"
      ]
     },
     "execution_count": 11,
     "metadata": {},
     "output_type": "execute_result"
    }
   ],
   "source": [
    "img = Image.fromarray(toNp.squeeze())\n",
    "img"
   ]
  },
  {
   "cell_type": "code",
   "execution_count": 12,
   "id": "20c1fd7d-963c-44c1-bd0c-c5ee1edbd3de",
   "metadata": {},
   "outputs": [],
   "source": [
    "np2 = np.expand_dims(np.expand_dims(randImg, axis=0), axis=0)"
   ]
  },
  {
   "cell_type": "code",
   "execution_count": 13,
   "id": "feb59c61-752c-4f92-9cb5-a19422cf2f6c",
   "metadata": {},
   "outputs": [
    {
     "data": {
      "text/plain": [
       "(1, 1, 64, 64)"
      ]
     },
     "execution_count": 13,
     "metadata": {},
     "output_type": "execute_result"
    }
   ],
   "source": [
    "np2.shape"
   ]
  },
  {
   "cell_type": "code",
   "execution_count": 14,
   "id": "1a7a78b7-e0c2-4aa7-955c-a27dac4b7a07",
   "metadata": {},
   "outputs": [
    {
     "data": {
      "image/png": "[encoded data removed]",
      "text/plain": [
       "<PIL.Image.Image image mode=L size=64x64>"
      ]
     },
     "execution_count": 14,
     "metadata": {},
     "output_type": "execute_result"
    }
   ],
   "source": [
    "img = Image.fromarray(np2.squeeze())\n",
    "img"
   ]
  },
  {
   "cell_type": "markdown",
   "id": "691cf40a-57b1-426d-9c3d-763573b38de1",
   "metadata": {},
   "source": [
    "# Dataset"
   ]
  },
  {
   "cell_type": "code",
   "execution_count": 15,
   "id": "c7762156-f725-40a1-846f-769cfdf2f19a",
   "metadata": {},
   "outputs": [],
   "source": [
    "import logging\n",
    "import sys\n",
    "from random import randint\n",
    "\n",
    "root = logging.getLogger()\n",
    "root.setLevel(logging.INFO)\n",
    "\n",
    "handler = logging.StreamHandler(sys.stdout)\n",
    "handler.setLevel(logging.INFO)\n",
    "formatter = logging.Formatter('%(asctime)s - %(name)s - %(levelname)s - %(message)s')\n",
    "handler.setFormatter(formatter)\n",
    "root.addHandler(handler)\n",
    "\n",
    "from mapdataset import ImageGroupReader, single_layer_converter, MapsDataset, MapReader, ImageUtils"
   ]
  },
  {
   "cell_type": "code",
   "execution_count": 16,
   "id": "abea5e96-9740-4efa-9fad-0d9a0e1cb68a",
   "metadata": {},
   "outputs": [],
   "source": [
    "dillFolder = \"../data/output/SF_Layered/32x32/group-1280-stride-10\""
   ]
  },
  {
   "cell_type": "code",
   "execution_count": 18,
   "id": "df3e64dd-29f1-481d-8bf4-ba09a3430a56",
   "metadata": {},
   "outputs": [
    {
     "name": "stdout",
     "output_type": "stream",
     "text": [
      "2022-11-04 13:13:57,896 - root - INFO - Loading 6400 patches from ../data/output/SF_Layered/32x32/group-1280-stride-10\n",
      "2022-11-04 13:13:57,897 - root - INFO - reading patch 5404\n"
     ]
    },
    {
     "data": {
      "image/png": "[encoded data removed]",
      "text/plain": [
       "<PIL.Image.Image image mode=L size=32x32>"
      ]
     },
     "execution_count": 18,
     "metadata": {},
     "output_type": "execute_result"
    }
   ],
   "source": [
    "mapsDataset = MapsDataset(\n",
    "    patch_size=(32, 32), \n",
    "    stride=10, \n",
    "    sample_group_size=1280, \n",
    "    converter=single_layer_converter,\n",
    "    outputDir=\"./data/output\"\n",
    "    ) \n",
    "\n",
    "mapsDataset.loadPatches(dillFolder)\n",
    "patchNo = randint(0, len(mapsDataset))\n",
    "logging.info(f\"reading patch {patchNo}\")\n",
    "patch = mapsDataset[patchNo]\n",
    "\n",
    "# im = ImageUtils.PILPatchToPILImg(patch)\n",
    "# im = ImageUtils.PILPatchToPILImg(patch)\n",
    "im = ImageUtils.TorchNpPatchToPILImgGray(patch)\n",
    "# path = os.path.join(dillFolder, f\"{patchNo}.png\")\n",
    "im"
   ]
  },
  {
   "cell_type": "code",
   "execution_count": null,
   "id": "200ea1a1-1bbd-403c-a4eb-cd4657e733b8",
   "metadata": {},
   "outputs": [],
   "source": []
  }
 ],
 "metadata": {
  "kernelspec": {
   "display_name": "Python 3 (ipykernel)",
   "language": "python",
   "name": "python3"
  },
  "language_info": {
   "codemirror_mode": {
    "name": "ipython",
    "version": 3
   },
   "file_extension": ".py",
   "mimetype": "text/x-python",
   "name": "python",
   "nbconvert_exporter": "python",
   "pygments_lexer": "ipython3",
   "version": "3.7.9"
  }
 },
 "nbformat": 4,
 "nbformat_minor": 5
}
